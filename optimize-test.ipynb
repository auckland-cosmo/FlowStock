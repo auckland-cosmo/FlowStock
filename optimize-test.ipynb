{
 "cells": [
  {
   "cell_type": "code",
   "execution_count": 44,
   "metadata": {},
   "outputs": [],
   "source": [
    "import numpy as np\n",
    "import scipy.optimize"
   ]
  },
  {
   "cell_type": "code",
   "execution_count": 51,
   "metadata": {},
   "outputs": [],
   "source": [
    "def funk(x_list, l):\n",
    "    sum =0.0\n",
    "    for i in range(0,len(x_list)):\n",
    "        sum += (x_list[i]-l[i])**2\n",
    "    return sum\n",
    "\n",
    "def derivative(x_list, l):\n",
    "    ar = np.zeros(len(x_list))\n",
    "    for i in range(0,len(x_list)):\n",
    "        ar[i]=2*(x_list[i]-l[i])\n",
    "    return ar"
   ]
  },
  {
   "cell_type": "code",
   "execution_count": 52,
   "metadata": {},
   "outputs": [
    {
     "name": "stdout",
     "output_type": "stream",
     "text": [
      "true l: [3 1 1 8 9 8 7 3 2 4]\n",
      "init l: [5 9 2 9 4 5 7 9 6 7]\n"
     ]
    }
   ],
   "source": [
    "l=np.random.randint(1,10, size=10)\n",
    "x_ini=np.random.randint(1,10, size=10)\n",
    "bdns=[(1,10) for i in range(0,10)]\n",
    "print(\"true l:\",l)\n",
    "print(\"init l:\",x_ini)"
   ]
  },
  {
   "cell_type": "code",
   "execution_count": 53,
   "metadata": {},
   "outputs": [],
   "source": [
    "result = scipy.optimize.minimize(\n",
    "    funk,\n",
    "    x0=x_ini,\n",
    "    args = (l),\n",
    "    method=\"L-BFGS-B\",\n",
    "    jac = derivative,\n",
    "    bounds = bdns,\n",
    "#     tol = 1e-14\n",
    ")"
   ]
  },
  {
   "cell_type": "code",
   "execution_count": 54,
   "metadata": {},
   "outputs": [
    {
     "name": "stdout",
     "output_type": "stream",
     "text": [
      "      fun: 0.0\n",
      " hess_inv: <10x10 LbfgsInvHessProduct with dtype=float64>\n",
      "      jac: array([0., 0., 0., 0., 0., 0., 0., 0., 0., 0.])\n",
      "  message: b'CONVERGENCE: NORM_OF_PROJECTED_GRADIENT_<=_PGTOL'\n",
      "     nfev: 3\n",
      "      nit: 2\n",
      "   status: 0\n",
      "  success: True\n",
      "        x: array([3., 1., 1., 8., 9., 8., 7., 3., 2., 4.])\n",
      "optimized l: [3. 1. 1. 8. 9. 8. 7. 3. 2. 4.]\n"
     ]
    }
   ],
   "source": [
    "print(result)\n",
    "print(\"optimized l:\", result.x)"
   ]
  },
  {
   "cell_type": "code",
   "execution_count": null,
   "metadata": {},
   "outputs": [],
   "source": []
  },
  {
   "cell_type": "code",
   "execution_count": null,
   "metadata": {},
   "outputs": [],
   "source": []
  }
 ],
 "metadata": {
  "kernelspec": {
   "display_name": "Python 3",
   "language": "python",
   "name": "python3"
  },
  "language_info": {
   "codemirror_mode": {
    "name": "ipython",
    "version": 3
   },
   "file_extension": ".py",
   "mimetype": "text/x-python",
   "name": "python",
   "nbconvert_exporter": "python",
   "pygments_lexer": "ipython3",
   "version": "3.7.6"
  }
 },
 "nbformat": 4,
 "nbformat_minor": 4
}

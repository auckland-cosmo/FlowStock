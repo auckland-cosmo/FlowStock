{
 "cells": [
  {
   "cell_type": "code",
   "execution_count": 5,
   "metadata": {},
   "outputs": [],
   "source": [
    "import numpy as np\n",
    "import scipy.optimize"
   ]
  },
  {
   "cell_type": "code",
   "execution_count": 18,
   "metadata": {},
   "outputs": [],
   "source": [
    "def funk(x_list, l):\n",
    "    sum =0.0\n",
    "    for i in range(0,len(x_list)):\n",
    "        sum += (x_list[i]-l[i])**2\n",
    "    return sum\n",
    "\n",
    "def derivative(x_list, l):\n",
    "    ar = np.zeros(len(x_list))\n",
    "    for i in range(0,len(x_list)):\n",
    "        ar[i]=2*(x_list[i]-l[i])\n",
    "    return ar"
   ]
  },
  {
   "cell_type": "code",
   "execution_count": 19,
   "metadata": {},
   "outputs": [
    {
     "name": "stdout",
     "output_type": "stream",
     "text": [
      "true l: [6 9 2 2 9 5 8 1 2 9]\n",
      "init l: [6 9 6 7 1 2 2 6 1 7]\n"
     ]
    }
   ],
   "source": [
    "l=np.random.randint(1,10, size=10)\n",
    "x_ini=np.random.randint(1,10, size=10)\n",
    "bdns=[(1,10) for i in range(0,10)]\n",
    "print(\"true l:\",l)\n",
    "print(\"init l:\",x_ini)"
   ]
  },
  {
   "cell_type": "code",
   "execution_count": 16,
   "metadata": {},
   "outputs": [
    {
     "name": "stderr",
     "output_type": "stream",
     "text": [
      "/Users/mateja/opt/anaconda3/lib/python3.7/site-packages/ipykernel_launcher.py:4: RuntimeWarning: overflow encountered in double_scalars\n",
      "  after removing the cwd from sys.path.\n"
     ]
    }
   ],
   "source": [
    "result = scipy.optimize.minimize(\n",
    "    funk,\n",
    "    x0=x_ini,\n",
    "    args = (l),\n",
    "    method=\"L-BFGS-B\",\n",
    "    jac = derivative,\n",
    "#     bounds = bdns,\n",
    "#     tol = 1e-14\n",
    ")"
   ]
  },
  {
   "cell_type": "code",
   "execution_count": 17,
   "metadata": {},
   "outputs": [
    {
     "name": "stdout",
     "output_type": "stream",
     "text": [
      "      fun: -inf\n",
      " hess_inv: <10x10 LbfgsInvHessProduct with dtype=float64>\n",
      "      jac: array([6.93632735e+300, 4.95071754e+301, 3.39327606e+301, 3.39327606e+301,\n",
      "       0.00000000e+000, 1.02285911e+300, 5.10758300e+299, 0.00000000e+000,\n",
      "       4.95071754e+301, 3.60588331e+298])\n",
      "  message: b'CONVERGENCE: REL_REDUCTION_OF_F_<=_FACTR*EPSMCH'\n",
      "     nfev: 74\n",
      "      nit: 5\n",
      "   status: 0\n",
      "  success: True\n",
      "        x: array([-1.52056211e+150, -4.06231360e+150, -3.36317115e+150,\n",
      "       -3.36317115e+150,  8.00000000e+000, -5.83911839e+149,\n",
      "       -4.12616974e+149,  2.00000000e+000, -4.06231360e+150,\n",
      "       -1.09633987e+149])\n",
      "optimized l: [-1.52056211e+150 -4.06231360e+150 -3.36317115e+150 -3.36317115e+150\n",
      "  8.00000000e+000 -5.83911839e+149 -4.12616974e+149  2.00000000e+000\n",
      " -4.06231360e+150 -1.09633987e+149]\n"
     ]
    }
   ],
   "source": [
    "print(result)\n",
    "print(\"optimized l:\", result.x)"
   ]
  },
  {
   "cell_type": "code",
   "execution_count": null,
   "metadata": {},
   "outputs": [],
   "source": []
  }
 ],
 "metadata": {
  "kernelspec": {
   "display_name": "Python 3",
   "language": "python",
   "name": "python3"
  },
  "language_info": {
   "codemirror_mode": {
    "name": "ipython",
    "version": 3
   },
   "file_extension": ".py",
   "mimetype": "text/x-python",
   "name": "python",
   "nbconvert_exporter": "python",
   "pygments_lexer": "ipython3",
   "version": "3.7.6"
  }
 },
 "nbformat": 4,
 "nbformat_minor": 4
}

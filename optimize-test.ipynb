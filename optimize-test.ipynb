{
 "cells": [
  {
   "cell_type": "code",
   "execution_count": 5,
   "metadata": {},
   "outputs": [],
   "source": [
    "import numpy as np\n",
    "import scipy.optimize"
   ]
  },
  {
   "cell_type": "code",
   "execution_count": 6,
   "metadata": {},
   "outputs": [],
   "source": [
    "def funk(x_list, l):\n",
    "    sum =0.0\n",
    "    for i in range(0,len(x_list)):\n",
    "        sum += (x_list[i]-l[i])**3\n",
    "    return sum\n",
    "\n",
    "def derivative(x_list, l):\n",
    "    ar = np.zeros(len(x_list))\n",
    "    for i in range(0,len(x_list)):\n",
    "        ar[i]=3*(x_list[i]-l[i])\n",
    "    return ar"
   ]
  },
  {
   "cell_type": "code",
   "execution_count": 7,
   "metadata": {},
   "outputs": [
    {
     "name": "stdout",
     "output_type": "stream",
     "text": [
      "true l: [2 8 4 1 2 4 1 4 5 3]\n",
      "init l: [4 5 2 3 2 9 9 4 1 2]\n"
     ]
    }
   ],
   "source": [
    "l=np.random.randint(1,10, size=10)\n",
    "x_ini=np.random.randint(1,10, size=10)\n",
    "bdns=[(1,10) for i in range(0,10)]\n",
    "print(\"true l:\",l)\n",
    "print(\"init l:\",x_ini)"
   ]
  },
  {
   "cell_type": "code",
   "execution_count": 8,
   "metadata": {},
   "outputs": [],
   "source": [
    "result = scipy.optimize.minimize(\n",
    "    funk,\n",
    "    x0=x_ini,\n",
    "    args = (l),\n",
    "    method=\"L-BFGS-B\",\n",
    "    jac = derivative,\n",
    "#     bounds = bdns,\n",
    "    tol = 1e-14\n",
    ")"
   ]
  },
  {
   "cell_type": "code",
   "execution_count": 9,
   "metadata": {},
   "outputs": [
    {
     "name": "stdout",
     "output_type": "stream",
     "text": [
      "      fun: -1.0597319636456429e-44\n",
      " hess_inv: <10x10 LbfgsInvHessProduct with dtype=float64>\n",
      "      jac: array([-1.33226763e-15,  0.00000000e+00,  0.00000000e+00, -1.33226763e-15,\n",
      "        0.00000000e+00, -5.32907052e-15, -5.32907052e-15,  0.00000000e+00,\n",
      "        2.66453526e-15,  1.33226763e-15])\n",
      "  message: b'CONVERGENCE: NORM_OF_PROJECTED_GRADIENT_<=_PGTOL'\n",
      "     nfev: 4\n",
      "      nit: 2\n",
      "   status: 0\n",
      "  success: True\n",
      "        x: array([2., 8., 4., 1., 2., 4., 1., 4., 5., 3.])\n",
      "optimized l: [2. 8. 4. 1. 2. 4. 1. 4. 5. 3.]\n"
     ]
    }
   ],
   "source": [
    "print(result)\n",
    "print(\"optimized l:\", result.x)"
   ]
  },
  {
   "cell_type": "code",
   "execution_count": null,
   "metadata": {},
   "outputs": [],
   "source": []
  },
  {
   "cell_type": "code",
   "execution_count": null,
   "metadata": {},
   "outputs": [],
   "source": []
  }
 ],
 "metadata": {
  "kernelspec": {
   "display_name": "Python 3",
   "language": "python",
   "name": "python3"
  },
  "language_info": {
   "codemirror_mode": {
    "name": "ipython",
    "version": 3
   },
   "file_extension": ".py",
   "mimetype": "text/x-python",
   "name": "python",
   "nbconvert_exporter": "python",
   "pygments_lexer": "ipython3",
   "version": "3.7.6"
  }
 },
 "nbformat": 4,
 "nbformat_minor": 4
}

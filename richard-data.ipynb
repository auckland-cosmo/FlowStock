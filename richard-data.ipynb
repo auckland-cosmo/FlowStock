{
 "cells": [
  {
   "cell_type": "code",
   "execution_count": null,
   "metadata": {},
   "outputs": [],
   "source": [
    "import matplotlib.pyplot as plt\n",
    "import numpy as np"
   ]
  },
  {
   "cell_type": "code",
   "execution_count": null,
   "metadata": {},
   "outputs": [],
   "source": [
    "from movement import Akagi"
   ]
  },
  {
   "cell_type": "markdown",
   "metadata": {},
   "source": [
    "# Hand generated data"
   ]
  },
  {
   "cell_type": "markdown",
   "metadata": {},
   "source": [
    "One set of fake data"
   ]
  },
  {
   "cell_type": "code",
   "execution_count": null,
   "metadata": {},
   "outputs": [],
   "source": [
    "N = np.array([\n",
    "    [53, 65, 97, 155, 220, 250, 220, 155, 97, 65, 53],\n",
    "    [55, 61, 86, 147, 230, 272, 230, 147, 86, 61, 55],\n",
    "])\n",
    "\n",
    "K = 3\n",
    "\n",
    "n_x = 11\n",
    "n_y = 1"
   ]
  },
  {
   "cell_type": "markdown",
   "metadata": {},
   "source": [
    "Another"
   ]
  },
  {
   "cell_type": "raw",
   "metadata": {},
   "source": [
    "N_init = np.array([\n",
    "    [55, 55, 55, 55, 55, 55, 55, 55, 55, 55, 55],\n",
    "    [55, 55, 55, 57, 60, 62, 62, 60, 57, 55, 55],\n",
    "    [55, 55, 58, 63, 75, 86, 86, 75, 63, 58, 55],\n",
    "    [55, 57, 62, 80, 114, 145, 145, 114, 80, 62, 57],\n",
    "    [55, 58, 69, 102, 166, 225, 225, 166, 102, 69, 58],\n",
    "    [55, 58, 71, 114, 193, 265, 265, 193, 114, 71, 58],\n",
    "    [55, 58, 69, 102, 166, 225, 225, 166, 102, 69, 58],\n",
    "    [55, 57, 62, 80, 114, 145, 145, 114, 80, 62, 57],\n",
    "    [55, 55, 58, 63, 75, 86, 86, 75, 63, 58, 55],\n",
    "    [55, 55, 55, 57, 60, 62, 62, 60, 57, 55, 55],\n",
    "    [55, 55, 55, 55, 55, 55, 55, 55, 55, 55, 55]\n",
    "])\n",
    "\n",
    "N_final = np.array([\n",
    "    [50, 50, 50, 51, 53, 53, 53, 51, 50, 50, 50],\n",
    "    [50, 51, 53, 58, 63, 65, 63, 58, 53, 51, 50],\n",
    "    [50, 53, 61, 75, 90, 97, 90, 75, 61, 53, 50],\n",
    "    [51, 58, 75, 105, 140, 155, 140, 105, 75, 58, 51],\n",
    "    [53, 63, 90, 140, 195, 220, 195, 140, 90, 63, 53],\n",
    "    [53, 65, 97, 155, 220, 250, 220, 155, 97, 65, 53],\n",
    "    [53, 63, 90, 140, 195, 220, 195, 140, 90, 63, 53],\n",
    "    [51, 58, 75, 105, 140, 155, 140, 105, 75, 58, 51],\n",
    "    [50, 53, 61, 75, 90, 97, 90, 75, 61, 53, 50],\n",
    "    [50, 51, 53, 58, 63, 65, 63, 58, 53, 51, 50],\n",
    "    [50, 50, 50, 51, 53, 53, 53, 51, 50, 50, 50]\n",
    "])\n",
    "\n",
    "N = np.array([N_init.flatten(), N_final.flatten()])\n",
    "K = 3\n",
    "\n",
    "n_x, n_y = N_init.shape"
   ]
  },
  {
   "cell_type": "code",
   "execution_count": null,
   "metadata": {},
   "outputs": [],
   "source": []
  },
  {
   "cell_type": "code",
   "execution_count": null,
   "metadata": {},
   "outputs": [],
   "source": [
    "n_steps = N.shape[0] - 1\n",
    "n_cells = n_x * n_y\n",
    "\n",
    "x = np.arange(0, n_x)\n",
    "y = np.arange(0, n_y)\n",
    "\n",
    "loc = np.zeros((n_x, n_y, 2))\n",
    "\n",
    "for i in range(n_x):\n",
    "    for j in range(n_y):\n",
    "        loc[i, j] = np.array([x[i], y[j]])\n",
    "\n",
    "d = np.zeros((n_x * n_y, n_x * n_y))\n",
    "for i in range(n_x * n_y):\n",
    "    for j in range(n_x * n_y):\n",
    "        d[i, j] = ((loc.reshape(n_x * n_y, 2)[i] - loc.reshape(n_x * n_y, 2)[j])**2).sum()**0.5"
   ]
  },
  {
   "cell_type": "markdown",
   "metadata": {},
   "source": [
    "# Estimate movement"
   ]
  },
  {
   "cell_type": "code",
   "execution_count": null,
   "metadata": {},
   "outputs": [],
   "source": [
    "a = Akagi(N, d, K)"
   ]
  },
  {
   "cell_type": "markdown",
   "metadata": {},
   "source": [
    "Pre-compile akagi._cost"
   ]
  },
  {
   "cell_type": "code",
   "execution_count": null,
   "metadata": {},
   "outputs": [],
   "source": [
    "from movement import akagi"
   ]
  },
  {
   "cell_type": "code",
   "execution_count": null,
   "metadata": {
    "scrolled": true
   },
   "outputs": [],
   "source": [
    "%time akagi._cost(a.M, N)\n",
    "%timeit akagi._cost(a.M, N)"
   ]
  },
  {
   "cell_type": "code",
   "execution_count": null,
   "metadata": {
    "scrolled": false
   },
   "outputs": [],
   "source": [
    "%time result = a.exact_inference(1e-4)"
   ]
  },
  {
   "cell_type": "code",
   "execution_count": null,
   "metadata": {},
   "outputs": [],
   "source": [
    "np.rint(a.M[0]).astype(int)"
   ]
  },
  {
   "cell_type": "code",
   "execution_count": null,
   "metadata": {
    "scrolled": false
   },
   "outputs": [],
   "source": [
    "np.rint(a.M).astype(int)"
   ]
  },
  {
   "cell_type": "markdown",
   "metadata": {},
   "source": [
    "Are there approximately the right number of people in the end?"
   ]
  },
  {
   "cell_type": "code",
   "execution_count": null,
   "metadata": {},
   "outputs": [],
   "source": [
    "np.rint((a.M.sum(axis=2) - N[:-1])).astype(int)"
   ]
  },
  {
   "cell_type": "code",
   "execution_count": null,
   "metadata": {},
   "outputs": [],
   "source": [
    "N.sum(axis=1)"
   ]
  },
  {
   "cell_type": "code",
   "execution_count": null,
   "metadata": {},
   "outputs": [],
   "source": [
    "from matplotlib.colors import LogNorm"
   ]
  },
  {
   "cell_type": "code",
   "execution_count": null,
   "metadata": {},
   "outputs": [],
   "source": [
    "move_into = a.M.reshape(n_steps, n_cells, n_x, n_y)"
   ]
  },
  {
   "cell_type": "code",
   "execution_count": null,
   "metadata": {},
   "outputs": [],
   "source": [
    "step = 0\n",
    "cell = 3"
   ]
  },
  {
   "cell_type": "code",
   "execution_count": null,
   "metadata": {},
   "outputs": [],
   "source": [
    "plt.imshow(move_into[step][cell], norm=LogNorm(vmin=1, vmax=a.M.max()))\n",
    "plt.colorbar()\n",
    "plt.title(\"where people moved to from cell {}\".format(cell))"
   ]
  },
  {
   "cell_type": "code",
   "execution_count": null,
   "metadata": {},
   "outputs": [],
   "source": [
    "plt.imshow(N[step+1].reshape(n_x, n_y) - N[step].reshape(n_x, n_y))\n",
    "plt.colorbar()\n",
    "plt.title(\"overall change during step\")"
   ]
  },
  {
   "cell_type": "code",
   "execution_count": null,
   "metadata": {},
   "outputs": [],
   "source": []
  }
 ],
 "metadata": {
  "kernelspec": {
   "display_name": "Python 3",
   "language": "python",
   "name": "python3"
  },
  "language_info": {
   "codemirror_mode": {
    "name": "ipython",
    "version": 3
   },
   "file_extension": ".py",
   "mimetype": "text/x-python",
   "name": "python",
   "nbconvert_exporter": "python",
   "pygments_lexer": "ipython3",
   "version": "3.6.10"
  }
 },
 "nbformat": 4,
 "nbformat_minor": 4
}

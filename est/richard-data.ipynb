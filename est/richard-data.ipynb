{
 "cells": [
  {
   "cell_type": "code",
   "execution_count": null,
   "metadata": {},
   "outputs": [],
   "source": [
    "import matplotlib.pyplot as plt\n",
    "import numpy as np\n",
    "from scipy import optimize as opt"
   ]
  },
  {
   "cell_type": "code",
   "execution_count": null,
   "metadata": {},
   "outputs": [],
   "source": [
    "import akagi"
   ]
  },
  {
   "cell_type": "markdown",
   "metadata": {},
   "source": [
    "# Hand generated data"
   ]
  },
  {
   "cell_type": "code",
   "execution_count": null,
   "metadata": {},
   "outputs": [],
   "source": [
    "N = np.array([\n",
    "    [53, 65, 97, 155, 220, 250, 220, 155, 97, 65, 53],\n",
    "    [55, 61, 86, 147, 230, 272, 230, 147, 86, 61, 55],\n",
    "])\n",
    "\n",
    "K = 3\n",
    "\n",
    "d = np.array([\n",
    "    [0, 1, 2, 3, 4, 5, 6, 7, 8, 9, 10],\n",
    "    [1, 0, 1, 2, 3, 4, 5, 6, 7, 8, 9],\n",
    "    [2, 1, 0, 1, 2, 3, 4, 5, 6, 7, 8],\n",
    "    [3, 2, 1, 0, 1, 2, 3, 4, 5, 6, 7],\n",
    "    [4, 3, 2, 1, 0, 1, 2, 3, 4, 5, 6],\n",
    "    [5, 4, 3, 2, 1, 0, 1, 2, 3, 4, 5],\n",
    "    [6, 5, 4, 3, 2, 1, 0, 1, 2, 3, 4],\n",
    "    [7, 6, 5, 4, 3, 2, 1, 0, 1, 2, 3],\n",
    "    [8, 7, 6, 5, 4, 3, 2, 1, 0, 1, 2],\n",
    "    [9, 8, 7, 6, 5, 4, 3, 2, 1, 0, 1],\n",
    "    [10, 9, 8, 7, 6, 5, 4, 3, 2, 1, 0],\n",
    "])\n",
    "d.shape"
   ]
  },
  {
   "cell_type": "markdown",
   "metadata": {},
   "source": [
    "# Estimate movement"
   ]
  },
  {
   "cell_type": "code",
   "execution_count": null,
   "metadata": {},
   "outputs": [],
   "source": [
    "a = akagi.Akagi(N, d, K)"
   ]
  },
  {
   "cell_type": "markdown",
   "metadata": {},
   "source": [
    "Pre-compile akagi._cost"
   ]
  },
  {
   "cell_type": "code",
   "execution_count": null,
   "metadata": {
    "scrolled": true
   },
   "outputs": [],
   "source": [
    "%time akagi._cost(a.M, N)\n",
    "%time akagi._cost(a.M, N)"
   ]
  },
  {
   "cell_type": "code",
   "execution_count": null,
   "metadata": {},
   "outputs": [],
   "source": [
    "np.rint(a.M[0, 0]).astype(int)"
   ]
  },
  {
   "cell_type": "code",
   "execution_count": null,
   "metadata": {
    "scrolled": false
   },
   "outputs": [],
   "source": [
    "%time result = a.exact_inference()"
   ]
  },
  {
   "cell_type": "code",
   "execution_count": null,
   "metadata": {},
   "outputs": [],
   "source": [
    "np.rint(a.M[0, 0]).astype(int)"
   ]
  },
  {
   "cell_type": "code",
   "execution_count": null,
   "metadata": {
    "scrolled": false
   },
   "outputs": [],
   "source": [
    "np.rint(a.M).astype(int)"
   ]
  },
  {
   "cell_type": "markdown",
   "metadata": {},
   "source": [
    "Are there approximately the right number of people in the end?"
   ]
  },
  {
   "cell_type": "code",
   "execution_count": null,
   "metadata": {},
   "outputs": [],
   "source": [
    "np.rint((a.M.sum(axis=2) - N[:-1])).astype(int)"
   ]
  },
  {
   "cell_type": "code",
   "execution_count": null,
   "metadata": {},
   "outputs": [],
   "source": []
  }
 ],
 "metadata": {
  "kernelspec": {
   "display_name": "Python 3",
   "language": "python",
   "name": "python3"
  },
  "language_info": {
   "codemirror_mode": {
    "name": "ipython",
    "version": 3
   },
   "file_extension": ".py",
   "mimetype": "text/x-python",
   "name": "python",
   "nbconvert_exporter": "python",
   "pygments_lexer": "ipython3",
   "version": "3.6.10"
  }
 },
 "nbformat": 4,
 "nbformat_minor": 4
}

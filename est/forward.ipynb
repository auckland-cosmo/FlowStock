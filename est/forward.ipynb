{
 "cells": [
  {
   "cell_type": "code",
   "execution_count": null,
   "metadata": {},
   "outputs": [],
   "source": [
    "import matplotlib.pyplot as plt\n",
    "import numpy as np\n",
    "np.random.seed(0)\n",
    "\n",
    "from forward import ForwardSimulator"
   ]
  },
  {
   "cell_type": "code",
   "execution_count": null,
   "metadata": {},
   "outputs": [],
   "source": [
    "num_timesteps = 30\n",
    "num_cells = 100\n",
    "K = 2"
   ]
  },
  {
   "cell_type": "code",
   "execution_count": null,
   "metadata": {},
   "outputs": [],
   "source": []
  },
  {
   "cell_type": "code",
   "execution_count": null,
   "metadata": {},
   "outputs": [],
   "source": [
    "width = .01\n",
    "length = 10\n",
    "\n",
    "# Array of cell locations\n",
    "# These locations are scattered around a line\n",
    "loc = np.zeros((num_cells, 2))\n",
    "loc[:, 0] += np.linspace(0, length, num_cells)\n",
    "loc += np.random.uniform(0, (width, width), (num_cells, 2))"
   ]
  },
  {
   "cell_type": "code",
   "execution_count": null,
   "metadata": {},
   "outputs": [],
   "source": [
    "plt.scatter(loc[:, 0], loc[:, 1])"
   ]
  },
  {
   "cell_type": "code",
   "execution_count": null,
   "metadata": {},
   "outputs": [],
   "source": [
    "# Array of distances between cells\n",
    "d = np.zeros((num_cells, num_cells))\n",
    "for i in range(num_cells):\n",
    "    for j in range(num_cells):\n",
    "        d[i, j] = ((loc[i] - loc[j])**2).sum()**0.5"
   ]
  },
  {
   "cell_type": "code",
   "execution_count": null,
   "metadata": {},
   "outputs": [],
   "source": [
    "beta = 1 / length"
   ]
  },
  {
   "cell_type": "code",
   "execution_count": null,
   "metadata": {},
   "outputs": [],
   "source": [
    "pi = 0.5 - 0.25 * sin(loc[..., 0]) + np.random.normal(loc=0.0, scale=0.01, size=num_cells)\n",
    "s = 2 + sin(loc[..., 0]) + np.random.normal(loc=0.0, scale=0.01, size=num_cells)"
   ]
  },
  {
   "cell_type": "raw",
   "metadata": {},
   "source": [
    "# Static\n",
    "pi = np.zeros(num_cells)\n",
    "s = np.ones(num_cells)"
   ]
  },
  {
   "cell_type": "code",
   "execution_count": null,
   "metadata": {},
   "outputs": [],
   "source": [
    "plt.plot(loc[..., 0], s, label='s')\n",
    "plt.plot(loc[..., 0], pi, label=r'$\\pi$')\n",
    "plt.legend()"
   ]
  },
  {
   "cell_type": "code",
   "execution_count": null,
   "metadata": {},
   "outputs": [],
   "source": [
    "N_init = np.random.randint(100, 500, size=(num_cells)) + (1000 * np.exp(-0.01 * (loc[..., 0] - 3*np.pi/2)**2)).astype(int)\n",
    "N_init.sum()"
   ]
  },
  {
   "cell_type": "code",
   "execution_count": null,
   "metadata": {},
   "outputs": [],
   "source": [
    "plt.plot(loc[..., 0], N_init)"
   ]
  },
  {
   "cell_type": "code",
   "execution_count": null,
   "metadata": {},
   "outputs": [],
   "source": [
    "simulator = ForwardSimulator(pi, s, beta, d, K)"
   ]
  },
  {
   "cell_type": "code",
   "execution_count": null,
   "metadata": {},
   "outputs": [],
   "source": [
    "N, M = simulator.simulate(N_init, num_timesteps)"
   ]
  },
  {
   "cell_type": "code",
   "execution_count": null,
   "metadata": {},
   "outputs": [],
   "source": []
  },
  {
   "cell_type": "code",
   "execution_count": null,
   "metadata": {},
   "outputs": [],
   "source": [
    "totals = N.sum(axis=1)\n",
    "\n",
    "# Number conservation\n",
    "assert np.allclose(totals, totals[0])"
   ]
  },
  {
   "cell_type": "code",
   "execution_count": null,
   "metadata": {},
   "outputs": [],
   "source": [
    "fig, ax = plt.subplots()\n",
    "\n",
    "ax.imshow(N)\n",
    "\n",
    "ax.set_ylabel('t')\n",
    "ax.set_xlabel('cell')\n",
    "\n",
    "ax.set_title('population evolution')\n",
    "\n",
    "ax.set_frame_on(False)"
   ]
  },
  {
   "cell_type": "code",
   "execution_count": null,
   "metadata": {},
   "outputs": [],
   "source": [
    "plt.plot(loc[:, 0], N[0])\n",
    "plt.plot(loc[:, 0], N[1])\n",
    "plt.plot(loc[:, 0], N[2])\n",
    "plt.plot(loc[:, 0], N[-1])"
   ]
  },
  {
   "cell_type": "code",
   "execution_count": null,
   "metadata": {},
   "outputs": [],
   "source": []
  },
  {
   "cell_type": "code",
   "execution_count": null,
   "metadata": {},
   "outputs": [],
   "source": []
  }
 ],
 "metadata": {
  "kernelspec": {
   "display_name": "Python 3",
   "language": "python",
   "name": "python3"
  },
  "language_info": {
   "codemirror_mode": {
    "name": "ipython",
    "version": 3
   },
   "file_extension": ".py",
   "mimetype": "text/x-python",
   "name": "python",
   "nbconvert_exporter": "python",
   "pygments_lexer": "ipython3",
   "version": "3.6.10"
  }
 },
 "nbformat": 4,
 "nbformat_minor": 4
}

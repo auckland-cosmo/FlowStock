{
 "cells": [
  {
   "cell_type": "code",
   "execution_count": null,
   "metadata": {},
   "outputs": [],
   "source": [
    "import numpy as np\n",
    "from scipy import optimize as opt\n",
    "from typing  import Tuple"
   ]
  },
  {
   "cell_type": "code",
   "execution_count": null,
   "metadata": {},
   "outputs": [],
   "source": [
    "import akagi"
   ]
  },
  {
   "cell_type": "code",
   "execution_count": null,
   "metadata": {},
   "outputs": [],
   "source": [
    "N = np.array([\n",
    "    [100, 200, 300, 400, 500, 600, 700],\n",
    "    [100, 200, 300, 400, 500, 600, 700],\n",
    "    [100, 200, 300, 400, 500, 600, 700],\n",
    "    [100, 200, 300, 400, 500, 600, 700],\n",
    "    [100, 200, 300, 400, 500, 600, 700],\n",
    "    [100, 200, 300, 400, 500, 600, 700],\n",
    "    [100, 200, 300, 400, 500, 600, 700],\n",
    "    [100, 200, 300, 400, 500, 600, 700],\n",
    "    [100, 200, 300, 400, 500, 600, 700],\n",
    "    [100, 200, 300, 400, 500, 600, 700],\n",
    "], dtype=int)\n",
    "N = N[..., :4]"
   ]
  },
  {
   "cell_type": "code",
   "execution_count": null,
   "metadata": {},
   "outputs": [],
   "source": [
    "d = np.array([\n",
    "    [0, 1, 2, 3, 4, 5, 6],\n",
    "    [1, 0, 1, 2, 3, 4, 5],\n",
    "    [2, 1, 0, 1, 2, 3, 4],\n",
    "    [3, 2, 1, 0, 1, 2, 3],\n",
    "    [4, 3, 2, 1, 0, 1, 2],\n",
    "    [5, 4, 3, 2, 1, 0, 1],\n",
    "    [6, 5, 4, 3, 2, 1, 0],\n",
    "])\n",
    "d = d[:4, :4]"
   ]
  },
  {
   "cell_type": "code",
   "execution_count": null,
   "metadata": {},
   "outputs": [],
   "source": [
    "a = akagi.Akagi(N, d)"
   ]
  },
  {
   "cell_type": "code",
   "execution_count": null,
   "metadata": {},
   "outputs": [],
   "source": [
    "M_init = a.M\n",
    "pi_init = a.pi\n",
    "s_init = a.s\n",
    "beta_init = a.beta"
   ]
  },
  {
   "cell_type": "code",
   "execution_count": null,
   "metadata": {},
   "outputs": [],
   "source": [
    "a.likelihood(a.M, a.pi, a.s, a.beta)"
   ]
  },
  {
   "cell_type": "code",
   "execution_count": null,
   "metadata": {},
   "outputs": [],
   "source": []
  },
  {
   "cell_type": "code",
   "execution_count": null,
   "metadata": {
    "scrolled": true
   },
   "outputs": [],
   "source": [
    "result = a.exact_inference()"
   ]
  },
  {
   "cell_type": "code",
   "execution_count": null,
   "metadata": {},
   "outputs": [],
   "source": [
    "result"
   ]
  },
  {
   "cell_type": "code",
   "execution_count": null,
   "metadata": {},
   "outputs": [],
   "source": [
    "a.M[0].astype(int)"
   ]
  },
  {
   "cell_type": "code",
   "execution_count": null,
   "metadata": {},
   "outputs": [],
   "source": [
    "a.M.sum(axis=2).astype(int) - N[:-1]"
   ]
  },
  {
   "cell_type": "code",
   "execution_count": null,
   "metadata": {},
   "outputs": [],
   "source": [
    "a.M.sum(axis=1).astype(int)"
   ]
  },
  {
   "cell_type": "code",
   "execution_count": null,
   "metadata": {},
   "outputs": [],
   "source": []
  },
  {
   "cell_type": "code",
   "execution_count": null,
   "metadata": {},
   "outputs": [],
   "source": [
    "a.likelihood(M_init, pi_init, s_init, beta_init)"
   ]
  },
  {
   "cell_type": "code",
   "execution_count": null,
   "metadata": {},
   "outputs": [],
   "source": [
    "a.likelihood(a.M, pi_init, s_init, beta_init)"
   ]
  },
  {
   "cell_type": "code",
   "execution_count": null,
   "metadata": {},
   "outputs": [],
   "source": [
    "a.gamma_exc"
   ]
  }
 ],
 "metadata": {
  "kernelspec": {
   "display_name": "Python 3",
   "language": "python",
   "name": "python3"
  },
  "language_info": {
   "codemirror_mode": {
    "name": "ipython",
    "version": 3
   },
   "file_extension": ".py",
   "mimetype": "text/x-python",
   "name": "python",
   "nbconvert_exporter": "python",
   "pygments_lexer": "ipython3",
   "version": "3.6.10"
  }
 },
 "nbformat": 4,
 "nbformat_minor": 4
}

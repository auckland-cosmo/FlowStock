{
 "cells": [
  {
   "cell_type": "code",
   "execution_count": null,
   "metadata": {},
   "outputs": [],
   "source": [
    "from datetime import datetime\n",
    "import load_csv\n",
    "import matplotlib.pyplot as plt  # type: ignore\n",
    "import numpy as np  # type: ignore\n",
    "import pandas as pd  # type: ignore\n",
    "import seaborn as sns  # type: ignore"
   ]
  },
  {
   "cell_type": "markdown",
   "metadata": {},
   "source": [
    "# Load Data"
   ]
  },
  {
   "cell_type": "code",
   "execution_count": null,
   "metadata": {},
   "outputs": [],
   "source": [
    "area_data = load_csv.load_area_data_2018(\n",
    "    \"../../data/area/statistical-area-2-2018-generalised.csv\"\n",
    ")"
   ]
  },
  {
   "cell_type": "code",
   "execution_count": null,
   "metadata": {},
   "outputs": [],
   "source": [
    "telco_data = load_csv.load_telco_data(\"../../data/telco/pop_data_2020-04-01.dat\")"
   ]
  },
  {
   "cell_type": "code",
   "execution_count": null,
   "metadata": {},
   "outputs": [],
   "source": [
    "data_all = pd.merge(area_data[[\"region_code\", \"region_name\", \"area\"]], telco_data, on=\"region_code\")"
   ]
  },
  {
   "cell_type": "code",
   "execution_count": null,
   "metadata": {},
   "outputs": [],
   "source": [
    "data_all['density'] = data_all['count'] / data_all['area']"
   ]
  },
  {
   "cell_type": "code",
   "execution_count": null,
   "metadata": {},
   "outputs": [],
   "source": [
    "data_all"
   ]
  },
  {
   "cell_type": "code",
   "execution_count": null,
   "metadata": {},
   "outputs": [],
   "source": [
    "data_recent = data_all[\n",
    "    data_all[\"time\"] >= datetime(2020, 2, 1)\n",
    "]"
   ]
  },
  {
   "cell_type": "code",
   "execution_count": null,
   "metadata": {},
   "outputs": [],
   "source": [
    "data_recent"
   ]
  },
  {
   "cell_type": "markdown",
   "metadata": {},
   "source": [
    "# Quick checks"
   ]
  },
  {
   "cell_type": "markdown",
   "metadata": {},
   "source": [
    "### Total counts"
   ]
  },
  {
   "cell_type": "code",
   "execution_count": null,
   "metadata": {},
   "outputs": [],
   "source": [
    "data = data_all"
   ]
  },
  {
   "cell_type": "code",
   "execution_count": null,
   "metadata": {},
   "outputs": [],
   "source": [
    "data_summed = data.groupby('time').sum()\n",
    "data_summed"
   ]
  },
  {
   "cell_type": "code",
   "execution_count": null,
   "metadata": {},
   "outputs": [],
   "source": [
    "sns_plot = sns.lineplot(\n",
    "    data = data_summed,\n",
    "    x=data_summed.index,\n",
    "    y='count',\n",
    ")\n",
    "\n",
    "sns_plot.get_figure().autofmt_xdate()"
   ]
  },
  {
   "cell_type": "markdown",
   "metadata": {},
   "source": [
    "Why are there more phones than people?\n",
    "- Tourists?\n",
    "Maybe, there is a decline at the end of summer.\n",
    "\n",
    "- People with two phones?\n",
    "\n",
    "\n",
    "What are the occaisional drops? There are a few days when the total count is less than 4.6 million."
   ]
  },
  {
   "cell_type": "code",
   "execution_count": null,
   "metadata": {},
   "outputs": [],
   "source": [
    "data_summed[data_summed['count'] < 4600000]"
   ]
  },
  {
   "cell_type": "code",
   "execution_count": null,
   "metadata": {},
   "outputs": [],
   "source": []
  },
  {
   "cell_type": "markdown",
   "metadata": {},
   "source": [
    "### Can seeing commuting and holidays"
   ]
  },
  {
   "cell_type": "code",
   "execution_count": null,
   "metadata": {},
   "outputs": [],
   "source": [
    "data_subset = data_recent[\n",
    "    np.logical_or.reduce(\n",
    "        (\n",
    "            data_recent[\"region_name\"] == \"Auckland-University\",\n",
    "            # data[\"region_name\"] == \"Queen Street\",\n",
    "            data_recent[\"region_name\"] == \"Balmoral\",\n",
    "            data_recent[\"region_name\"] == \"Mount Maunganui North\",\n",
    "        )\n",
    "    )\n",
    "]"
   ]
  },
  {
   "cell_type": "code",
   "execution_count": null,
   "metadata": {},
   "outputs": [],
   "source": [
    "sns_plot = sns.lineplot(\n",
    "    data=data_subset,\n",
    "    x=\"time\",\n",
    "    y=\"count\",\n",
    "    hue=\"region_name\",\n",
    ")\n",
    "sns_plot.set_xlim(right=datetime(2020, 2, 29))\n",
    "sns_plot.get_figure().autofmt_xdate()\n",
    "\n",
    "plt.show()"
   ]
  },
  {
   "cell_type": "markdown",
   "metadata": {},
   "source": [
    "This makes sense.\n",
    "\n",
    "- Five spikes a week when people go to work - except Waitangi day.\n",
    "\n",
    "- Auckland-University and Balmoral are anti-correlated.\n",
    "\n",
    "- Spikes in Mount Manuganui evenings, weekends and holidays."
   ]
  },
  {
   "cell_type": "markdown",
   "metadata": {},
   "source": [
    "# Can see major gatherings"
   ]
  },
  {
   "cell_type": "code",
   "execution_count": null,
   "metadata": {},
   "outputs": [],
   "source": [
    "data_subset = data_all[\n",
    "    (\n",
    "        (data_all[\"region_name\"] == \"Eden Park\") |\n",
    "        (data_all[\"region_name\"] == \"Ellerslie Central\") |\n",
    "        (data_all[\"region_name\"] == \"Westmere South-Western Springs\") |\n",
    "        (data_all[\"region_name\"] == \"Riccarton Racecourse\") |\n",
    "        False\n",
    "    ) &\n",
    "    (data_all['time'] >= datetime(2019, 1, 1)) &\n",
    "    (data_all['time'] <= datetime(2019, 4, 4))\n",
    "]"
   ]
  },
  {
   "cell_type": "code",
   "execution_count": null,
   "metadata": {},
   "outputs": [],
   "source": [
    "sns_plot = sns.lineplot(\n",
    "    data=data_subset,\n",
    "    x=\"time\",\n",
    "    y=\"count\",\n",
    "    hue=\"region_name\",\n",
    ")\n",
    "sns_plot.get_figure().autofmt_xdate()\n",
    "\n",
    "plt.show()"
   ]
  },
  {
   "cell_type": "markdown",
   "metadata": {},
   "source": [
    "### Overall densities"
   ]
  },
  {
   "cell_type": "code",
   "execution_count": null,
   "metadata": {},
   "outputs": [],
   "source": [
    "date = datetime(2020, 2, 26, 14)\n",
    "sns_plot = sns.distplot(\n",
    "    data_all[data_all['time'] == date]['density'],\n",
    "    kde=False,\n",
    ")\n",
    "\n",
    "sns_plot.set_yscale('log')\n",
    "sns_plot.set_ylabel('count')\n",
    "sns_plot.set_title(date)"
   ]
  },
  {
   "cell_type": "code",
   "execution_count": null,
   "metadata": {},
   "outputs": [],
   "source": [
    "data_all[\n",
    "#     (data_all['density'] > 100_000) &\n",
    "    (data_all['time'] == datetime(2020, 2, 26, 14))\n",
    "].sort_values('density', ascending=False)"
   ]
  }
 ],
 "metadata": {
  "kernelspec": {
   "display_name": "Python 3",
   "language": "python",
   "name": "python3"
  },
  "language_info": {
   "codemirror_mode": {
    "name": "ipython",
    "version": 3
   },
   "file_extension": ".py",
   "mimetype": "text/x-python",
   "name": "python",
   "nbconvert_exporter": "python",
   "pygments_lexer": "ipython3",
   "version": "3.6.10"
  }
 },
 "nbformat": 4,
 "nbformat_minor": 4
}

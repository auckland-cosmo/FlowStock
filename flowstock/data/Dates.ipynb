{
 "cells": [
  {
   "cell_type": "code",
   "execution_count": null,
   "metadata": {},
   "outputs": [],
   "source": [
    "from datetime import datetime\n",
    "import load_csv\n",
    "import matplotlib.pyplot as plt  # type: ignore\n",
    "import numpy as np  # type: ignore\n",
    "import pandas as pd  # type: ignore\n",
    "import seaborn as sns  # type: ignore"
   ]
  },
  {
   "cell_type": "markdown",
   "metadata": {},
   "source": [
    "# Load Data"
   ]
  },
  {
   "cell_type": "code",
   "execution_count": null,
   "metadata": {},
   "outputs": [],
   "source": [
    "area_data = load_csv.load_area_data_2018(\n",
    "    \"../../data/area/statistical-area-2-2018-generalised.csv\"\n",
    ")"
   ]
  },
  {
   "cell_type": "code",
   "execution_count": null,
   "metadata": {},
   "outputs": [],
   "source": [
    "telco_data = load_csv.load_telco_data(\"../../data/telco/pop_data_2020-04-01.dat\")"
   ]
  },
  {
   "cell_type": "code",
   "execution_count": null,
   "metadata": {},
   "outputs": [],
   "source": [
    "data_merged = pd.merge(area_data[[\"region_code\", \"region_name\", \"area\"]], telco_data, on=\"region_code\")"
   ]
  },
  {
   "cell_type": "code",
   "execution_count": null,
   "metadata": {},
   "outputs": [],
   "source": [
    "data_merged['day of week'] = data_merged['time'].dt.dayofweek\n",
    "data_merged['day name'] = data_merged['time'].dt.day_name()"
   ]
  },
  {
   "cell_type": "code",
   "execution_count": null,
   "metadata": {},
   "outputs": [],
   "source": [
    "data_merged['weekday'] = data_merged['day of week'].apply(lambda x: False if x == 5 or x == 6 else True)"
   ]
  },
  {
   "cell_type": "code",
   "execution_count": null,
   "metadata": {},
   "outputs": [],
   "source": [
    "data_merged['density'] = data_merged['count'] / data_merged['area']"
   ]
  },
  {
   "cell_type": "code",
   "execution_count": null,
   "metadata": {},
   "outputs": [],
   "source": [
    "data_merged['day'] = data_merged['time'].dt.strftime('%Y-%m-%d')"
   ]
  },
  {
   "cell_type": "code",
   "execution_count": null,
   "metadata": {},
   "outputs": [],
   "source": [
    "data_merged"
   ]
  },
  {
   "cell_type": "code",
   "execution_count": null,
   "metadata": {},
   "outputs": [],
   "source": [
    "data_merged.dtypes"
   ]
  },
  {
   "cell_type": "markdown",
   "metadata": {},
   "source": [
    "# Restrict dates"
   ]
  },
  {
   "cell_type": "code",
   "execution_count": null,
   "metadata": {},
   "outputs": [],
   "source": [
    "mask_dates = (\n",
    "    (data_merged['time'] >= datetime(2020, 2, 16)) &\n",
    "    (data_merged['time'] < datetime(2020, 3, 1))\n",
    ")\n",
    "mask_weekday = data_merged['day of week'].isin(range(0, 5))\n",
    "mask_weekend = data_merged['day of week'].isin(range(5, 7))"
   ]
  },
  {
   "cell_type": "code",
   "execution_count": null,
   "metadata": {},
   "outputs": [],
   "source": [
    "data_merged[mask_dates]"
   ]
  },
  {
   "cell_type": "code",
   "execution_count": null,
   "metadata": {},
   "outputs": [],
   "source": [
    "data_weekday = data_merged[mask_dates & mask_weekday]\n",
    "data_weekend = data_merged[mask_dates & mask_weekend]"
   ]
  },
  {
   "cell_type": "code",
   "execution_count": null,
   "metadata": {},
   "outputs": [],
   "source": [
    "sns.distplot(data_weekday['day of week'], kde=False)\n",
    "sns.distplot(data_weekend['day of week'], kde=False)"
   ]
  },
  {
   "cell_type": "code",
   "execution_count": null,
   "metadata": {},
   "outputs": [],
   "source": [
    "table = pd.pivot_table(\n",
    "    data_merged[mask_dates],\n",
    "    index=[\"region_code\", \"region_name\",],\n",
    "#     columns=[\"day of week\", \"day name\"],\n",
    "    columns=[\"weekday\"],\n",
    "    values=['count'],\n",
    "    aggfunc=[min, max]\n",
    ")\n",
    "\n",
    "table.head(20)"
   ]
  },
  {
   "cell_type": "code",
   "execution_count": null,
   "metadata": {},
   "outputs": [],
   "source": []
  },
  {
   "cell_type": "markdown",
   "metadata": {},
   "source": [
    "# Ratios of min/max counts"
   ]
  },
  {
   "cell_type": "code",
   "execution_count": null,
   "metadata": {},
   "outputs": [],
   "source": []
  },
  {
   "cell_type": "code",
   "execution_count": null,
   "metadata": {},
   "outputs": [],
   "source": [
    "def activity_ratio(df):\n",
    "    table_days = pd.pivot_table(\n",
    "        df,\n",
    "        index=[\"region_code\", \"region_name\", \"day\"],\n",
    "    #     columns=[\"day of week\", \"day name\"],\n",
    "        values='count',\n",
    "        aggfunc=[min, max]\n",
    "    )\n",
    "\n",
    "    table_days['ratio'] = table_days['max', 'count'] / table_days['min', 'count']\n",
    "    table_days['delta'] = table_days['max', 'count'] - table_days['min', 'count']\n",
    "\n",
    "    # Drop infinities and nans\n",
    "    # TODO: shouldn't drop all the days for a location\n",
    "    table_days = table_days[np.isfinite(table_days).all(1)]\n",
    "\n",
    "    table_mean_ratio = pd.pivot_table(\n",
    "        table_days.reset_index(),\n",
    "        index=[\"region_code\", \"region_name\"],\n",
    "        values=['ratio', 'delta'],\n",
    "        aggfunc=np.mean\n",
    "    )\n",
    "    \n",
    "    return table_mean_ratio\n",
    "\n",
    "\n",
    "\n"
   ]
  },
  {
   "cell_type": "code",
   "execution_count": null,
   "metadata": {},
   "outputs": [],
   "source": [
    "weekday_mean_ratios = activity_ratio(data_merged[mask_dates & mask_weekday])\n",
    "weekend_mean_ratios = activity_ratio(data_merged[mask_dates & mask_weekend])"
   ]
  },
  {
   "cell_type": "code",
   "execution_count": null,
   "metadata": {},
   "outputs": [],
   "source": [
    "weekday_mean_ratios.sort_values('delta').tail(10)"
   ]
  },
  {
   "cell_type": "code",
   "execution_count": null,
   "metadata": {},
   "outputs": [],
   "source": [
    "weekend_mean_ratios.sort_values('delta').tail(10)"
   ]
  },
  {
   "cell_type": "code",
   "execution_count": null,
   "metadata": {},
   "outputs": [],
   "source": [
    "bins = np.linspace(0, 30000, 50)\n",
    "sns_plot = sns.distplot(\n",
    "    weekday_mean_ratios['delta'],\n",
    "    bins=bins,\n",
    "    kde=False,\n",
    "    hist_kws={\"alpha\":0.5},\n",
    "    label=\"weekday\",\n",
    ")\n",
    "\n",
    "sns.distplot(\n",
    "    weekend_mean_ratios['delta'],\n",
    "    bins=bins,\n",
    "    kde=False,\n",
    "    hist_kws={\"alpha\":0.5},\n",
    "    label=\"weekend\",\n",
    ")\n",
    "\n",
    "sns_plot.set_yscale(\"log\")\n",
    "sns_plot.legend()"
   ]
  },
  {
   "cell_type": "code",
   "execution_count": null,
   "metadata": {},
   "outputs": [],
   "source": []
  },
  {
   "cell_type": "code",
   "execution_count": null,
   "metadata": {},
   "outputs": [],
   "source": [
    "ratios_merged = pd.merge(weekday_mean_ratios, weekend_mean_ratios, left_index=True, right_index=True, how=\"outer\")\n",
    "ratios_merged.rename(\n",
    "    columns={\n",
    "        \"ratio_x\":\"weekday ratio\",\n",
    "        \"ratio_y\":\"weekend ratio\",\n",
    "        \"delta_x\":\"weekday delta\",\n",
    "        \"delta_y\":\"weekend delta\",\n",
    "    },\n",
    "    inplace=True\n",
    ")"
   ]
  },
  {
   "cell_type": "code",
   "execution_count": null,
   "metadata": {},
   "outputs": [],
   "source": [
    "ratios_merged.isnull().sum()"
   ]
  },
  {
   "cell_type": "code",
   "execution_count": null,
   "metadata": {},
   "outputs": [],
   "source": [
    "sns.scatterplot(\n",
    "    data=ratios_merged,\n",
    "    x='weekday delta',\n",
    "    y='weekend delta',\n",
    ")"
   ]
  },
  {
   "cell_type": "code",
   "execution_count": null,
   "metadata": {},
   "outputs": [],
   "source": []
  },
  {
   "cell_type": "code",
   "execution_count": null,
   "metadata": {},
   "outputs": [],
   "source": [
    "ratios_areas = pd.merge(ratios_merged, area_data, on=\"region_code\", how=\"inner\")\n",
    "ratios_areas"
   ]
  },
  {
   "cell_type": "code",
   "execution_count": null,
   "metadata": {},
   "outputs": [],
   "source": [
    "sns_plot = sns.scatterplot(\n",
    "    data=ratios_merged,\n",
    "    x=\"area\",\n",
    "    y=\"weekday ratio\",\n",
    "    label=\"weekday\",\n",
    "    alpha=0.3,\n",
    ")\n",
    "\n",
    "sns.scatterplot(\n",
    "    data=ratios_areas,\n",
    "    x=\"area\",\n",
    "    y=\"weekend_ratio\",\n",
    "    label=\"weekend\",\n",
    "    alpha=0.3,\n",
    ")\n",
    "\n",
    "sns_plot.set_xscale(\"log\")\n",
    "sns_plot.set_yscale(\"log\")\n",
    "\n",
    "sns_plot.set_ylabel(\"mean daily ratio\")"
   ]
  },
  {
   "cell_type": "code",
   "execution_count": null,
   "metadata": {},
   "outputs": [],
   "source": [
    "ratios_merged"
   ]
  },
  {
   "cell_type": "code",
   "execution_count": null,
   "metadata": {},
   "outputs": [],
   "source": []
  },
  {
   "cell_type": "markdown",
   "metadata": {},
   "source": [
    "# Diffs"
   ]
  },
  {
   "cell_type": "code",
   "execution_count": null,
   "metadata": {},
   "outputs": [],
   "source": [
    "data_diffs = data_merged[mask_dates].copy()\n",
    "data_diffs.sort_values([\"region_code\", 'time'], inplace=True)\n",
    "data_diffs['diff'] = data_diffs.groupby('region_code')['count'].diff()\n",
    "data_diffs"
   ]
  },
  {
   "cell_type": "code",
   "execution_count": null,
   "metadata": {},
   "outputs": [],
   "source": [
    "def daily_diff_means(data):\n",
    "    table_diff = pd.pivot_table(\n",
    "        data,\n",
    "        index=[\"region_code\", \"region_name\", \"day\"],\n",
    "        values=\"diff\",\n",
    "        aggfunc=[sum, max, min, lambda x: (x**2).mean()**0.5],\n",
    "    )\n",
    "\n",
    "    table_diff.columns = table_diff.columns.to_flat_index()\n",
    "    table_diff\n",
    "\n",
    "    table_diff = table_diff[np.isfinite(table_diff).all(1)]\n",
    "    table_means = pd.pivot_table(\n",
    "        table_diff.reset_index()[mask_weekday],\n",
    "        index=[\"region_code\", \"region_name\"],\n",
    "        values=[('min', 'diff'), ('max', 'diff'), ('<lambda>', 'diff')]\n",
    "    )\n",
    "    \n",
    "    return table_means"
   ]
  },
  {
   "cell_type": "code",
   "execution_count": null,
   "metadata": {},
   "outputs": [],
   "source": [
    "table_means_weekday = daily_diff_means(data_diffs[mask_weekday])\n",
    "table_means_weekend = daily_diff_means(data_diffs[mask_weekend])"
   ]
  },
  {
   "cell_type": "code",
   "execution_count": null,
   "metadata": {},
   "outputs": [],
   "source": []
  },
  {
   "cell_type": "code",
   "execution_count": null,
   "metadata": {},
   "outputs": [],
   "source": [
    "bins = np.linspace(0, 3000, 100)\n",
    "sns_plot = sns.distplot(\n",
    "    table_means_weekday[('max', 'diff')],\n",
    "    bins=bins,\n",
    "    kde=False,\n",
    "    label=\"weekday\",\n",
    ")\n",
    "sns.distplot(\n",
    "    table_means_weekend[('max', 'diff')],\n",
    "    bins=bins,\n",
    "    kde=False,\n",
    "    label=\"weekend\",\n",
    ")\n",
    "sns_plot.legend()\n",
    "sns_plot.set_yscale(\"log\")"
   ]
  },
  {
   "cell_type": "code",
   "execution_count": null,
   "metadata": {},
   "outputs": [],
   "source": [
    "table_means_weekday.sort_values(('max', 'diff'))"
   ]
  },
  {
   "cell_type": "code",
   "execution_count": null,
   "metadata": {},
   "outputs": [],
   "source": []
  },
  {
   "cell_type": "code",
   "execution_count": null,
   "metadata": {},
   "outputs": [],
   "source": []
  },
  {
   "cell_type": "code",
   "execution_count": null,
   "metadata": {},
   "outputs": [],
   "source": [
    "data_merged[\n",
    "    (data_merged['region_name'] == 'Auckland-University') &\n",
    "    (data_merged['time'] > datetime(2020, 2, 17)) &\n",
    "    (data_merged['time'] < datetime(2020, 2, 18))\n",
    "]"
   ]
  },
  {
   "cell_type": "code",
   "execution_count": null,
   "metadata": {},
   "outputs": [],
   "source": []
  },
  {
   "cell_type": "code",
   "execution_count": null,
   "metadata": {},
   "outputs": [],
   "source": []
  },
  {
   "cell_type": "code",
   "execution_count": null,
   "metadata": {},
   "outputs": [],
   "source": []
  },
  {
   "cell_type": "code",
   "execution_count": null,
   "metadata": {},
   "outputs": [],
   "source": []
  },
  {
   "cell_type": "code",
   "execution_count": null,
   "metadata": {},
   "outputs": [],
   "source": []
  },
  {
   "cell_type": "code",
   "execution_count": null,
   "metadata": {},
   "outputs": [],
   "source": []
  }
 ],
 "metadata": {
  "kernelspec": {
   "display_name": "Python 3",
   "language": "python",
   "name": "python3"
  },
  "language_info": {
   "codemirror_mode": {
    "name": "ipython",
    "version": 3
   },
   "file_extension": ".py",
   "mimetype": "text/x-python",
   "name": "python",
   "nbconvert_exporter": "python",
   "pygments_lexer": "ipython3",
   "version": "3.6.10"
  }
 },
 "nbformat": 4,
 "nbformat_minor": 4
}

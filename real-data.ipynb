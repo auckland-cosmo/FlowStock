{
 "cells": [
  {
   "cell_type": "code",
   "execution_count": null,
   "metadata": {},
   "outputs": [],
   "source": [
    "import matplotlib.pyplot as plt\n",
    "import numpy as np\n",
    "from scipy import optimize as opt\n",
    "from datetime import datetime"
   ]
  },
  {
   "cell_type": "code",
   "execution_count": null,
   "metadata": {},
   "outputs": [],
   "source": [
    "from movement import Akagi\n",
    "from movement.data import load_csv\n",
    "from movement.data import distances"
   ]
  },
  {
   "cell_type": "code",
   "execution_count": null,
   "metadata": {},
   "outputs": [],
   "source": [
    "import pandas as pd"
   ]
  },
  {
   "cell_type": "markdown",
   "metadata": {},
   "source": [
    "Load data"
   ]
  },
  {
   "cell_type": "code",
   "execution_count": null,
   "metadata": {},
   "outputs": [],
   "source": [
    "centroid_data_fname = \"data/area/statistical-area-2-2018-centroid-true.csv\"\n",
    "hierarchy_data_fname = \"data/area/statistical-area-2-higher-geographies-2018-generalised.csv\"\n",
    "areas = distances.AreaSubset(centroid_data_fname, hierarchy_data_fname)\n",
    "areas.data"
   ]
  },
  {
   "cell_type": "raw",
   "metadata": {},
   "source": [
    "center = \"Christchurch Central\"\n",
    "D = 5000 # meters but K is in km to avoid numerical issues\n",
    "areas.filter_radius(center, D)\n",
    "areas.data"
   ]
  },
  {
   "cell_type": "code",
   "execution_count": null,
   "metadata": {
    "scrolled": false
   },
   "outputs": [],
   "source": [
    "areas.filter_ta_name(['Christchurch City', 'Waimakariri District'])\n",
    "areas.data"
   ]
  },
  {
   "cell_type": "code",
   "execution_count": null,
   "metadata": {},
   "outputs": [],
   "source": [
    "d = areas.distance_table(units='km')\n",
    "\n",
    "sa2_codes = areas.sa2_codes()"
   ]
  },
  {
   "cell_type": "code",
   "execution_count": null,
   "metadata": {},
   "outputs": [],
   "source": [
    "areas.sa2_names()"
   ]
  },
  {
   "cell_type": "code",
   "execution_count": null,
   "metadata": {},
   "outputs": [],
   "source": [
    "d.max()"
   ]
  },
  {
   "cell_type": "code",
   "execution_count": null,
   "metadata": {},
   "outputs": [],
   "source": [
    "telco_data_fname = \"data/telco/pop_data_2020-04-01.dat\""
   ]
  },
  {
   "cell_type": "code",
   "execution_count": null,
   "metadata": {},
   "outputs": [],
   "source": [
    "date_first = datetime(2020, 2, 18, 7)\n",
    "date_last = datetime(2020, 2, 18, 9)"
   ]
  },
  {
   "cell_type": "code",
   "execution_count": null,
   "metadata": {},
   "outputs": [],
   "source": [
    "telco = load_csv.load_telco_data(telco_data_fname)\n",
    "\n",
    "telco_subset = pd.pivot_table(\n",
    "    telco[\n",
    "        (telco[\"sa2_code\"].isin(sa2_codes)) &\n",
    "        ((telco[\"time\"] == date_first) | (telco[\"time\"] == date_last))\n",
    "    ],\n",
    "    index=\"time\",\n",
    "    columns=\"sa2_code\",\n",
    "    values=\"count\",\n",
    ")\n",
    "\n",
    "N = telco_subset.to_numpy()"
   ]
  },
  {
   "cell_type": "code",
   "execution_count": null,
   "metadata": {},
   "outputs": [],
   "source": [
    "N.shape"
   ]
  },
  {
   "cell_type": "code",
   "execution_count": null,
   "metadata": {},
   "outputs": [],
   "source": [
    "N.dtype"
   ]
  },
  {
   "cell_type": "code",
   "execution_count": null,
   "metadata": {},
   "outputs": [],
   "source": [
    "K = 80"
   ]
  },
  {
   "cell_type": "code",
   "execution_count": null,
   "metadata": {},
   "outputs": [],
   "source": [
    "plt.plot(N.sum(axis=1))"
   ]
  },
  {
   "cell_type": "markdown",
   "metadata": {},
   "source": [
    "# Estimate movement"
   ]
  },
  {
   "cell_type": "code",
   "execution_count": null,
   "metadata": {},
   "outputs": [],
   "source": [
    "a = Akagi(N, d, K)"
   ]
  },
  {
   "cell_type": "code",
   "execution_count": null,
   "metadata": {},
   "outputs": [],
   "source": [
    "a.lamda = 1e1"
   ]
  },
  {
   "cell_type": "code",
   "execution_count": null,
   "metadata": {
    "scrolled": false
   },
   "outputs": [],
   "source": [
    "%time result = a.exact_inference(1e-3)"
   ]
  },
  {
   "cell_type": "code",
   "execution_count": null,
   "metadata": {},
   "outputs": [],
   "source": [
    "np.rint(a.M[0]).astype(int)"
   ]
  },
  {
   "cell_type": "markdown",
   "metadata": {},
   "source": [
    "Are there approximately the right number of people in the end?"
   ]
  },
  {
   "cell_type": "code",
   "execution_count": null,
   "metadata": {},
   "outputs": [],
   "source": [
    "N.sum(axis=1)"
   ]
  },
  {
   "cell_type": "code",
   "execution_count": null,
   "metadata": {},
   "outputs": [],
   "source": [
    "a.M.sum(axis=(2)).astype(int)"
   ]
  },
  {
   "cell_type": "code",
   "execution_count": null,
   "metadata": {},
   "outputs": [],
   "source": [
    "N"
   ]
  },
  {
   "cell_type": "code",
   "execution_count": null,
   "metadata": {},
   "outputs": [],
   "source": [
    "np.rint((a.M.sum(axis=2) - N[:-1])).astype(int)"
   ]
  },
  {
   "cell_type": "code",
   "execution_count": null,
   "metadata": {},
   "outputs": [],
   "source": [
    "N.sum(axis=1)"
   ]
  },
  {
   "cell_type": "code",
   "execution_count": null,
   "metadata": {},
   "outputs": [],
   "source": [
    "plt.plot(\n",
    "    np.arange(3),\n",
    "    N.sum(axis=1)\n",
    ")\n",
    "plt.plot(\n",
    "    np.arange(0.5, 2.5),\n",
    "    a.M.sum(axis=(1,2))\n",
    ")"
   ]
  },
  {
   "cell_type": "code",
   "execution_count": null,
   "metadata": {},
   "outputs": [],
   "source": [
    "from cycler import cycler\n",
    "import matplotlib.pyplot as plt\n",
    "import itertools\n",
    "\n",
    "color_list = ['b', 'orange', 'r', 'green', 'k', 'gray']\n",
    "color_cycle = []\n",
    "for i in range(len(color_list)):\n",
    "    color_cycle.append(color_list[i])\n",
    "    color_cycle.append(color_list[i])\n",
    "\n",
    "num_regions = 6\n",
    "plt.rc('axes', prop_cycle=(cycler('color', color_cycle)))\n",
    "\n",
    "for i in range(num_regions):\n",
    "    plt.plot(\n",
    "        np.arange(3),\n",
    "        N[:, i],\n",
    "        linestyle='-',\n",
    "    )\n",
    "    plt.plot(\n",
    "        np.arange(0.5, 2.5),\n",
    "        a.M[:, i].sum(axis=1),\n",
    "        linestyle=':',\n",
    "    )"
   ]
  },
  {
   "cell_type": "code",
   "execution_count": null,
   "metadata": {},
   "outputs": [],
   "source": []
  }
 ],
 "metadata": {
  "kernelspec": {
   "display_name": "Python 3",
   "language": "python",
   "name": "python3"
  },
  "language_info": {
   "codemirror_mode": {
    "name": "ipython",
    "version": 3
   },
   "file_extension": ".py",
   "mimetype": "text/x-python",
   "name": "python",
   "nbconvert_exporter": "python",
   "pygments_lexer": "ipython3",
   "version": "3.6.10"
  }
 },
 "nbformat": 4,
 "nbformat_minor": 4
}
